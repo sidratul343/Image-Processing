{
 "cells": [
  {
   "cell_type": "markdown",
   "id": "infrared-tolerance",
   "metadata": {},
   "source": [
    "# Extracting desired portion of imaging based on color threshold using InRange Operation"
   ]
  },
  {
   "cell_type": "code",
   "execution_count": null,
   "id": "supreme-eight",
   "metadata": {},
   "outputs": [],
   "source": [
    "\n",
    "\n",
    "# give directory to boarder_open image \n",
    "path = \"largest_contour.jpg\"\n",
    "im = cv2.imread(path)\n",
    "#converting to RGB\n",
    "img = cv2.cvtColor(im, cv2.COLOR_BGR2RGB)\n",
    "#converting to HDV\n",
    "img = cv2.cvtColor(img, cv2.COLOR_RGB2HSV)\n",
    "#pick a color threshold\n",
    "highest  = (255, 255, 255)\n",
    "lowest  =(0,0,185)  \n",
    "# Extracting desired portion of imaging based on color threshold using InRange Operation\n",
    "inRange_mask = cv2.inRange(img, lowest, highest)\n",
    "\n",
    "# save mask to directory\n",
    "cv2.imwrite(\"inRange_mask.jpg\",inRange_mask)\n",
    "\n",
    "plt.imshow(cv2.cvtColor(inRange_mask, cv2.COLOR_BGR2RGB))\n",
    "plt.show()\n"
   ]
  }
 ],
 "metadata": {
  "kernelspec": {
   "display_name": "Python 3",
   "language": "python",
   "name": "python3"
  },
  "language_info": {
   "codemirror_mode": {
    "name": "ipython",
    "version": 3
   },
   "file_extension": ".py",
   "mimetype": "text/x-python",
   "name": "python",
   "nbconvert_exporter": "python",
   "pygments_lexer": "ipython3",
   "version": "3.8.4"
  }
 },
 "nbformat": 4,
 "nbformat_minor": 5
}
