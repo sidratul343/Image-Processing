{
 "cells": [
  {
   "cell_type": "markdown",
   "id": "contrary-island",
   "metadata": {},
   "source": [
    "# K-means clustering"
   ]
  },
  {
   "cell_type": "code",
   "execution_count": null,
   "id": "local-arabic",
   "metadata": {},
   "outputs": [],
   "source": [
    "#K-means clustering\n",
    "\n",
    "\n",
    "    image = cv2.imread(path)\n",
    "    \n",
    "    img = cv2.cvtColor(image, cv2.COLOR_BGR2GRAY)\n",
    "    img = image.reshape((-1,3))\n",
    "    pixel_vals = np.float32(img)\n",
    "#criteria = (cv2.TERM_CRITERIA_EPS + cv2.TERM_CRITERIA_MAX_ITER, 100, 0.85)\n",
    "    criteria = (cv2.TERM_CRITERIA_EPS + cv2.TERM_CRITERIA_MAX_ITER, 10, 1.0)\n",
    "    K = 3\n",
    "    attempts=10\n",
    "    ret,label,center=cv2.kmeans(pixel_vals,K,None,criteria,attempts,cv2.KMEANS_PP_CENTERS)\n",
    "\n",
    "\n",
    "#retval, labels, centers = cv2.kmeans(pixel_vals, k, None, criteria, 10, cv2.KMEANS_RANDOM_CENTERS)\n",
    "    centers = np.uint8(center)\n",
    "    segmented_data = centers[label.flatten()]\n",
    "    segmented_image = segmented_data.reshape((image.shape))\n",
    "    \n",
    "   "
   ]
  }
 ],
 "metadata": {
  "kernelspec": {
   "display_name": "Python 3",
   "language": "python",
   "name": "python3"
  },
  "language_info": {
   "codemirror_mode": {
    "name": "ipython",
    "version": 3
   },
   "file_extension": ".py",
   "mimetype": "text/x-python",
   "name": "python",
   "nbconvert_exporter": "python",
   "pygments_lexer": "ipython3",
   "version": "3.8.4"
  }
 },
 "nbformat": 4,
 "nbformat_minor": 5
}
