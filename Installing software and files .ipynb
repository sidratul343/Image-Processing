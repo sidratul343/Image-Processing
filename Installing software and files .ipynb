{
 "cells": [
  {
   "cell_type": "markdown",
   "id": "dynamic-pearl",
   "metadata": {},
   "source": [
    "## Download and Install Anaconda\n",
    "\n",
    "To work with computer Vision, we need to install some softwares and files.In this regard, we will be doing all the implementations in Python language on jupyter notebook. To install jupyter notebook and launch other application and files at first we have to download Anaconda which is free.\n",
    "\n",
    "Link to Download Anaconda : https://www.anaconda.com/?modal=nucleus-commercial\n",
    "\n",
    "Guideline for installing Anaconda : https://www.geeksforgeeks.org/how-to-install-anaconda-on-windows/\n",
    "\n",
    "Once Anaconda is downloaded and installed successfully, we may proceed to download Jupyter notebook.\n",
    "\n",
    "\n",
    "## Download and Install Jupyter Notebook\n",
    "\n",
    "\n",
    "Link to download Jupyter using Anaconda : https://docs.anaconda.com/ae-notebooks/4.3.1/user-guide/basic-tasks/apps/jupyter/\n",
    "\n",
    "More informations : https://mas-dse.github.io/startup/anaconda-windows-install/\n",
    "\n",
    "Guideline to use Jupyter notebook : https://www.dataquest.io/blog/jupyter-notebook-tutorial/\n",
    "\n",
    "\n",
    "## Installing Python libraries and packages\n",
    "\n",
    "Most Used Python libraries for image-processing\n",
    "\n",
    "* OpenCV\n",
    "* Scikit-Image\n",
    "* Pillow/PIL\n",
    "* NumPy\n",
    "* Pandas etc\n",
    "* Matplotlib\n",
    "\n",
    "\n",
    "To import and use the packages, we need pip or conda. For now we will be using pip. Using pip on Anaconda command prompt these packages can be installed.\n",
    "\n",
    "**More information**\n",
    "\n",
    "Downloading pip : https://phoenixnap.com/kb/install-pip-windows\n",
    "\n",
    "Install Python packages from Anaconda Prompt using pip : https://datatofish.com/how-to-install-python-package-in-anaconda/\n",
    "\n",
    "Once the packages are installed, you can use them by importing on Jupyter Notebook.\n",
    "\n",
    "\n",
    "Python libraries for Data Science (how to import on notebook) : https://neptune.ai/blog/image-processing-python-libraries-for-machine-learning\n",
    "\n",
    "**** Every Time you restart jupyter notebook, you have to import the libraries again****\n",
    "\n",
    "\n",
    "# THANKS & HAPPY LEARNING"
   ]
  },
  {
   "cell_type": "code",
   "execution_count": null,
   "id": "imperial-nomination",
   "metadata": {},
   "outputs": [],
   "source": []
  }
 ],
 "metadata": {
  "kernelspec": {
   "display_name": "Python 3",
   "language": "python",
   "name": "python3"
  },
  "language_info": {
   "codemirror_mode": {
    "name": "ipython",
    "version": 3
   },
   "file_extension": ".py",
   "mimetype": "text/x-python",
   "name": "python",
   "nbconvert_exporter": "python",
   "pygments_lexer": "ipython3",
   "version": "3.8.4"
  }
 },
 "nbformat": 4,
 "nbformat_minor": 5
}
