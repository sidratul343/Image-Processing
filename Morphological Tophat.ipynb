{
 "cells": [
  {
   "cell_type": "markdown",
   "id": "dense-miniature",
   "metadata": {},
   "source": [
    "# Morphological Tophat\n"
   ]
  },
  {
   "cell_type": "code",
   "execution_count": null,
   "id": "intelligent-valuation",
   "metadata": {},
   "outputs": [],
   "source": [
    "img = cv2.imread(r'C:\\Users\\DCL\\OneDrive\\Documents\\breast\\bcg_remove\\bg_remove2 92.jpg',0)\n",
    "filterSize =(3, 3)\n",
    "kernel = cv2.getStructuringElement(cv2.MORPH_RECT, filterSize)\n",
    "tophat_img = cv2.morphologyEx(img,cv2.MORPH_TOPHAT,kernel)\n",
    "  \n",
    "plt.imshow(tophat_img)\n",
    "ret,tophat_img = cv2.threshold(img,0,255,cv2.THRESH_BINARY)\n",
    "plt.imshow(img)\n",
    "final = cv.bitwise_and(img, tophat_img)\n",
    "cv2.imwrite(r'C:\\Users\\DCL\\OneDrive\\Documents\\Guava\\uu.JPG',final)"
   ]
  }
 ],
 "metadata": {
  "kernelspec": {
   "display_name": "Python 3",
   "language": "python",
   "name": "python3"
  },
  "language_info": {
   "codemirror_mode": {
    "name": "ipython",
    "version": 3
   },
   "file_extension": ".py",
   "mimetype": "text/x-python",
   "name": "python",
   "nbconvert_exporter": "python",
   "pygments_lexer": "ipython3",
   "version": "3.8.4"
  }
 },
 "nbformat": 4,
 "nbformat_minor": 5
}
