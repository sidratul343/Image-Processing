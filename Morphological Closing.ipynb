{
 "cells": [
  {
   "cell_type": "markdown",
   "id": "revised-conditioning",
   "metadata": {},
   "source": [
    "# Morphological Closing"
   ]
  },
  {
   "cell_type": "code",
   "execution_count": null,
   "id": "difficult-creativity",
   "metadata": {},
   "outputs": [],
   "source": [
    "image = cv2.imread(path,0) \n",
    "kernel = np.ones((5,5),np.uint8)\n",
    "closing = cv2.morphologyEx(image, cv2.MORPH_CLOSE, kernel)"
   ]
  }
 ],
 "metadata": {
  "kernelspec": {
   "display_name": "Python 3",
   "language": "python",
   "name": "python3"
  },
  "language_info": {
   "codemirror_mode": {
    "name": "ipython",
    "version": 3
   },
   "file_extension": ".py",
   "mimetype": "text/x-python",
   "name": "python",
   "nbconvert_exporter": "python",
   "pygments_lexer": "ipython3",
   "version": "3.8.4"
  }
 },
 "nbformat": 4,
 "nbformat_minor": 5
}
