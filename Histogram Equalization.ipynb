{
 "cells": [
  {
   "cell_type": "markdown",
   "id": "proper-columbia",
   "metadata": {},
   "source": [
    "# Histogram Equalization\n"
   ]
  },
  {
   "cell_type": "code",
   "execution_count": null,
   "id": "adjusted-function",
   "metadata": {},
   "outputs": [],
   "source": [
    "\n",
    "segmented_image = cv2.imread(path,0)\n",
    "    \n",
    "equ_image = cv2.equalizeHist(segmented_image)\n",
    "    "
   ]
  }
 ],
 "metadata": {
  "kernelspec": {
   "display_name": "Python 3",
   "language": "python",
   "name": "python3"
  },
  "language_info": {
   "codemirror_mode": {
    "name": "ipython",
    "version": 3
   },
   "file_extension": ".py",
   "mimetype": "text/x-python",
   "name": "python",
   "nbconvert_exporter": "python",
   "pygments_lexer": "ipython3",
   "version": "3.8.4"
  }
 },
 "nbformat": 4,
 "nbformat_minor": 5
}
