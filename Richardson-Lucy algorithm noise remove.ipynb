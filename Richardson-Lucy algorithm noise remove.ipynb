{
 "cells": [
  {
   "cell_type": "markdown",
   "id": "artificial-fiber",
   "metadata": {},
   "source": [
    "# Richardson-Lucy algorithm noise remove"
   ]
  },
  {
   "cell_type": "code",
   "execution_count": null,
   "id": "essential-chick",
   "metadata": {},
   "outputs": [],
   "source": [
    "\n",
    "\n",
    "#noise reduction\n",
    "img = r'C:\\Users\\DCL\\OneDrive\\Documents\\ANthraconose\\Anthracnose_of_Guava (424).jpg'\n",
    "\n",
    "m = cv2.imread(img)\n",
    "n = cv2.cvtColor(m, cv2.COLOR_BGR2RGB)\n",
    "imagee = cv2.cvtColor(m, cv2.COLOR_BGR2RGB) #to convert from bgr to rgb\n",
    "\n",
    "\n",
    "import numpy as np\n",
    "import matplotlib.pyplot as plt\n",
    "\n",
    "from scipy.signal import convolve2d as conv2\n",
    "\n",
    "from skimage import color, data, restoration\n",
    "\n",
    "astro = color.rgb2gray(imagee)\n",
    "\n",
    "psf = np.ones((5, 5)) / 25\n",
    "astro = conv2(astro, psf, 'same')\n",
    "# Add Noise to Image\n",
    "astro_noisy = astro.copy()\n",
    "astro_noisy += (np.random.poisson(lam=25, size=astro.shape) - 10) / 255.\n",
    "\n",
    "# Restore Image using Richardson-Lucy algorithm\n",
    "deconvolved_RL = restoration.richardson_lucy(astro_noisy, psf, iterations=30)\n",
    "\n",
    "fig, ax = plt.subplots(nrows=1, ncols=3, figsize=(8, 5))\n",
    "plt.gray()\n",
    "\n",
    "for a in (ax[0], ax[1], ax[2]):\n",
    "       a.axis('off')\n",
    "\n",
    "ax[0].imshow(n)\n",
    "ax[0].set_title('Original Data')\n",
    "\n",
    "ax[1].imshow(astro_noisy)\n",
    "ax[1].set_title('Noisy data')\n",
    "\n",
    "ax[2].imshow(deconvolved_RL, vmin=astro_noisy.min(), vmax=astro_noisy.max())\n",
    "ax[2].set_title('Restoration using\\nRichardson-Lucy')\n",
    "\n",
    "\n",
    "fig.subplots_adjust(wspace=0.02, hspace=0.2,\n",
    "                    top=0.9, bottom=0.05, left=0, right=1)\n",
    "plt.show()"
   ]
  }
 ],
 "metadata": {
  "kernelspec": {
   "display_name": "Python 3",
   "language": "python",
   "name": "python3"
  },
  "language_info": {
   "codemirror_mode": {
    "name": "ipython",
    "version": 3
   },
   "file_extension": ".py",
   "mimetype": "text/x-python",
   "name": "python",
   "nbconvert_exporter": "python",
   "pygments_lexer": "ipython3",
   "version": "3.8.4"
  }
 },
 "nbformat": 4,
 "nbformat_minor": 5
}
