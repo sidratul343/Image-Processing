{
 "cells": [
  {
   "cell_type": "markdown",
   "id": "accredited-clone",
   "metadata": {},
   "source": [
    "# morphological gradient"
   ]
  },
  {
   "cell_type": "code",
   "execution_count": null,
   "id": "linear-stack",
   "metadata": {},
   "outputs": [],
   "source": [
    "#morphological gradient\n",
    "\n",
    "kernel = np.ones((5,5),np.uint8)\n",
    "\n",
    "image = cv2.imread(path,0) \n",
    "    \n",
    "output = cv2.morphologyEx(image, cv2.MORPH_GRADIENT, kernel)\n",
    "    "
   ]
  }
 ],
 "metadata": {
  "kernelspec": {
   "display_name": "Python 3",
   "language": "python",
   "name": "python3"
  },
  "language_info": {
   "codemirror_mode": {
    "name": "ipython",
    "version": 3
   },
   "file_extension": ".py",
   "mimetype": "text/x-python",
   "name": "python",
   "nbconvert_exporter": "python",
   "pygments_lexer": "ipython3",
   "version": "3.8.4"
  }
 },
 "nbformat": 4,
 "nbformat_minor": 5
}
