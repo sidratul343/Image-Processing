{
 "cells": [
  {
   "cell_type": "markdown",
   "id": "equipped-sympathy",
   "metadata": {},
   "source": [
    "# Circle binary mask"
   ]
  },
  {
   "cell_type": "code",
   "execution_count": null,
   "id": "weighted-prime",
   "metadata": {},
   "outputs": [],
   "source": [
    "image = cv2.imread(path,0)\n",
    "mask = np.zeros(image.shape, dtype=np.uint8)\n",
    "mask = cv2.circle(mask, (175, 175), 177, (255,255,255), -1) \n",
    "\n",
    "# Mask input image with binary mask\n",
    "result = cv2.bitwise_and(image, mask)"
   ]
  }
 ],
 "metadata": {
  "kernelspec": {
   "display_name": "Python 3",
   "language": "python",
   "name": "python3"
  },
  "language_info": {
   "codemirror_mode": {
    "name": "ipython",
    "version": 3
   },
   "file_extension": ".py",
   "mimetype": "text/x-python",
   "name": "python",
   "nbconvert_exporter": "python",
   "pygments_lexer": "ipython3",
   "version": "3.8.4"
  }
 },
 "nbformat": 4,
 "nbformat_minor": 5
}
