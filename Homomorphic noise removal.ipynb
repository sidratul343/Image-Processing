{
 "cells": [
  {
   "cell_type": "markdown",
   "id": "photographic-publisher",
   "metadata": {},
   "source": [
    "# Homomorphic noise removal"
   ]
  },
  {
   "cell_type": "code",
   "execution_count": null,
   "id": "promising-bones",
   "metadata": {},
   "outputs": [],
   "source": [
    "#homomorphic\n",
    "\n",
    "folder = r'D:\\guava\\train_anthraconose_img\\train_anthraconose'\n",
    "#folder = r'C:\\\\Users\\\\DCL\\\\OneDrive\\\\Documents\\\\Guava\\\\anthraconose'\n",
    "j=1\n",
    "for im in os.listdir(folder):\n",
    "    path = os.path.join(folder,im)\n",
    "    img = cv2.imread(path,0)\n",
    "    img = cv2.resize(img,(350,350))\n",
    "    #img = cv2.resize(img,(350,350))\n",
    "    #img = cv2.cvtColor(img, cv2.COLOR_BGR2GRAY)\n",
    "    #print(img.shape)\n",
    "# Number of rows and columns\n",
    "    rows = img.shape[0]\n",
    "    cols = img.shape[1]\n",
    "    \n",
    "# Convert image to 0 to 1, then do log(1 + I)\n",
    "    imgLog = np.log1p(np.array(img, dtype=\"float\") / 255)\n",
    "\n",
    "# Create Gaussian mask of sigma = 10\n",
    "    M = 2*rows + 1\n",
    "    N = 2*cols + 1\n",
    "    sigma = 10\n",
    "    (X,Y) = np.meshgrid(np.linspace(0,N-1,N), np.linspace(0,M-1,M))\n",
    "    centerX = np.ceil(N/2)\n",
    "    centerY = np.ceil(M/2)\n",
    "    gaussianNumerator = (X - centerX)**2 + (Y - centerY)**2\n",
    "\n",
    "# Low pass and high pass filters\n",
    "    Hlow = np.exp(-gaussianNumerator / (2*sigma*sigma))\n",
    "    Hhigh = 1 - Hlow\n",
    "\n",
    "# Move origin of filters so that it's at the top left corner to\n",
    "# match with the input image\n",
    "    HlowShift = scipy.fftpack.ifftshift(Hlow.copy())\n",
    "    HhighShift = scipy.fftpack.ifftshift(Hhigh.copy())\n",
    "\n",
    "# Filter the image and crop\n",
    "    If = scipy.fftpack.fft2(imgLog.copy(), (M,N))\n",
    "    Ioutlow = scipy.real(scipy.fftpack.ifft2(If.copy() * HlowShift, (M,N)))\n",
    "    Iouthigh = scipy.real(scipy.fftpack.ifft2(If.copy() * HhighShift, (M,N)))\n",
    "# Set scaling factors and add\n",
    "    gamma1 = 0.3\n",
    "    gamma2 = 1.5\n",
    "    Iout = gamma1*Ioutlow[0:rows,0:cols] + gamma2*Iouthigh[0:rows,0:cols]\n",
    "\n",
    "# Anti-log then rescale to [0,1]\n",
    "    Ihmf = np.expm1(Iout)\n",
    "    Ihmf = (Ihmf - np.min(Ihmf)) / (np.max(Ihmf) - np.min(Ihmf))\n",
    "    image = np.array(255*Ihmf, dtype=\"uint8\")\n",
    "    #np.reshape(image, (150, 150))\n",
    "    #cv2.imwrite(os.path.join(r'C:\\Users\\DCL\\OneDrive\\Documents\\Guava\\train_homomorphic_an', 'train_homomorphic_an '+str(j)+'.jpg'),image )\n",
    "    #cv2.imwrite(os.path.join(r'C:\\Users\\DCL\\OneDrive\\Documents\\Guava\\try', 'train_homomorphic_an '+str(j)+'.jpg'),image )\n",
    "    j = j+1\n",
    "    \n",
    "\n",
    "\n",
    "\n",
    "#io.imshow(Ihmf2)\n",
    "#plt.show()\n",
    "    res = np.hstack((img,image))\n",
    "    imshow(res)\n",
    "    print(image.shape)\n",
    "    break\n",
    "      \n",
    "    \n",
    "    "
   ]
  }
 ],
 "metadata": {
  "kernelspec": {
   "display_name": "Python 3",
   "language": "python",
   "name": "python3"
  },
  "language_info": {
   "codemirror_mode": {
    "name": "ipython",
    "version": 3
   },
   "file_extension": ".py",
   "mimetype": "text/x-python",
   "name": "python",
   "nbconvert_exporter": "python",
   "pygments_lexer": "ipython3",
   "version": "3.8.4"
  }
 },
 "nbformat": 4,
 "nbformat_minor": 5
}
