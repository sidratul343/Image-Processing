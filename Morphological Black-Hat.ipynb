{
 "cells": [
  {
   "cell_type": "markdown",
   "id": "historic-cooperative",
   "metadata": {},
   "source": [
    "# Morphological Black-Hat"
   ]
  },
  {
   "cell_type": "code",
   "execution_count": null,
   "id": "neither-newark",
   "metadata": {},
   "outputs": [],
   "source": [
    "filterSize =(3, 3)\n",
    "\n",
    "kernel = cv2.getStructuringElement(cv2.MORPH_RECT,filterSize)\n",
    "  \n",
    "img2 = cv2.morphologyEx(image, cv2.MORPH_BLACKHAT, kernel)\n",
    "  \n",
    "imshow(img2)"
   ]
  }
 ],
 "metadata": {
  "kernelspec": {
   "display_name": "Python 3",
   "language": "python",
   "name": "python3"
  },
  "language_info": {
   "codemirror_mode": {
    "name": "ipython",
    "version": 3
   },
   "file_extension": ".py",
   "mimetype": "text/x-python",
   "name": "python",
   "nbconvert_exporter": "python",
   "pygments_lexer": "ipython3",
   "version": "3.8.4"
  }
 },
 "nbformat": 4,
 "nbformat_minor": 5
}
