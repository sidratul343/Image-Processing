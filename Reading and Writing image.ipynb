{
 "cells": [
  {
   "cell_type": "markdown",
   "id": "restricted-suspension",
   "metadata": {},
   "source": [
    "# Read, display and write image\n",
    "\n",
    "To read an write an image from folder python's Opencv or Pillow can be used, Note that if you read an image using Opencv you have to write the image using opencv as well and same goes for Pillow.\n",
    "\n",
    "To apply Opencv or Pillow we have to import them first."
   ]
  },
  {
   "cell_type": "markdown",
   "id": "established-business",
   "metadata": {},
   "source": [
    "## Using Opencv"
   ]
  },
  {
   "cell_type": "code",
   "execution_count": null,
   "id": "configured-cologne",
   "metadata": {},
   "outputs": [],
   "source": [
    "import cv2\n",
    "\n",
    "read_img_dir = r'D:\\breast\\Benign_Calc\\BenignCalc\\PNG0000.png'  #input image directory\n",
    "\n",
    "read_img = cv2.imread(read_img_dir)\n",
    "\n",
    "cv2.imshow('Window',read_img)  #display image\n",
    "\n",
    "cv2.imwrite(r'C:\\Users\\DCL\\OneDrive\\Documents\\others\\tutorial\\img_1.png',read_img) #output image directory\n",
    "\n",
    "cv2.waitKey(0)"
   ]
  },
  {
   "cell_type": "markdown",
   "id": "psychological-component",
   "metadata": {},
   "source": [
    "To learn more about the parameters and how the functions work, visit https://learnopencv.com/read-display-and-write-an-image-using-opencv/"
   ]
  },
  {
   "cell_type": "markdown",
   "id": "progressive-drinking",
   "metadata": {},
   "source": [
    "## Using Pillow"
   ]
  },
  {
   "cell_type": "code",
   "execution_count": 1,
   "id": "median-lucas",
   "metadata": {},
   "outputs": [],
   "source": [
    "from PIL import Image\n",
    "\n",
    "read_img_dir = r'D:\\breast\\Benign_Calc\\BenignCalc\\PNG0000.png'  #input image directory\n",
    "\n",
    "read_img = Image.open(read_img_dir) \n",
    "\n",
    "read_img.save(r'C:\\Users\\DCL\\OneDrive\\Documents\\others\\tutorial\\img_2.png')  #output image directory"
   ]
  },
  {
   "cell_type": "markdown",
   "id": "injured-battlefield",
   "metadata": {},
   "source": [
    "To learn more about the parameters and how the functions work, visit https://pillow.readthedocs.io/en/stable/reference/Image.html"
   ]
  }
 ],
 "metadata": {
  "kernelspec": {
   "display_name": "Python 3",
   "language": "python",
   "name": "python3"
  },
  "language_info": {
   "codemirror_mode": {
    "name": "ipython",
    "version": 3
   },
   "file_extension": ".py",
   "mimetype": "text/x-python",
   "name": "python",
   "nbconvert_exporter": "python",
   "pygments_lexer": "ipython3",
   "version": "3.8.4"
  }
 },
 "nbformat": 4,
 "nbformat_minor": 5
}
