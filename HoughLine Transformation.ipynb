{
 "cells": [
  {
   "cell_type": "markdown",
   "id": "diverse-farming",
   "metadata": {},
   "source": [
    "# HoughLine Transformation"
   ]
  },
  {
   "cell_type": "code",
   "execution_count": null,
   "id": "substantial-audit",
   "metadata": {},
   "outputs": [],
   "source": [
    "img1=cv2.imread(r\"C:\\rafid\\breast_cancer_2\\tutorial\\largest_contour.jpg\")\n",
    "img = cv2.cvtColor(img1, cv2.COLOR_BGR2RGB)\n",
    "img = cv2.cvtColor(img, cv2.COLOR_RGB2HSV)\n",
    "    \n",
    "m=np.max(img1)\n",
    "n=255\n",
    "l=int(m-100)\n",
    "    \n",
    "white = (n,n,n)\n",
    "black = (0,0,l)\n",
    "mask = cv2.inRange(img, black,white)\n",
    "\n",
    "cv2.imwrite(r\"C:\\rafid\\breast_cancer_2\\tutorial\\inRange_mask.jpg\", mask)\n",
    "plt.imshow(cv2.cvtColor(mask, cv2.COLOR_BGR2RGB))\n",
    "plt.show()\n",
    "\n",
    "img0 = cv2.imread(r\"C:\\rafid\\breast_cancer_2\\tutorial\\largest_contour.jpg\",0)\n",
    "img = cv2.imread(r\"C:\\rafid\\breast_cancer_2\\tutorial\\inRange_mask.jpg\",0)\n",
    "edges = cv2.Canny(img,50,150,apertureSize = 3)\n",
    "try:\n",
    "    lines = cv2.HoughLines(edges,1,np.pi/50,50)\n",
    "    for rho,theta in lines[0]:\n",
    "        a = np.cos(theta)\n",
    "        b = np.sin(theta)\n",
    "        x0 = a*rho\n",
    "        y0 = b*rho\n",
    "        x1 = int(x0 + 1000*(-b))\n",
    "        y1 = int(y0 + 1000*(a))\n",
    "        x2 = int(x0 - 1000*(-b))\n",
    "        y2 = int(y0 - 1000*(a))\n",
    "        cv2.line(img0,(x1,y1),(x2,y2),(0,0,255),5) \n",
    "        \n",
    "        cv2.imwrite(r\"C:\\rafid\\breast_cancer_2\\tutorial\\line removed.jpg\",img0)\n",
    "        \n",
    "        edges = cv2.Canny(img0,50,150,apertureSize = 3)\n",
    "        try:\n",
    "            lines = cv2.HoughLines(edges,1,np.pi/50,50)\n",
    "            for rho,theta in lines[0]:\n",
    "                a = np.cos(theta)\n",
    "                b = np.sin(theta)\n",
    "                x0 = a*rho\n",
    "                y0 = b*rho\n",
    "                x1 = int(x0 + 1000*(-b))\n",
    "                y1 = int(y0 + 1000*(a))\n",
    "                x2 = int(x0 - 1000*(-b))\n",
    "                y2 = int(y0 - 1000*(a))\n",
    "                cv2.line(img0,(x1,y1),(x2,y2),(0,0,255),10) \n",
    "\n",
    "            cv2.imwrite(r\"C:\\rafid\\breast_cancer_2\\tutorial\\line removed.jpg\",img0)\n",
    "        \n",
    "        except:\n",
    "            cv2.imwrite(r\"C:\\rafid\\breast_cancer_2\\tutorial\\line removed.jpg\",img0)\n",
    "        \n",
    "except:\n",
    "    cv2.imwrite(r\"C:\\rafid\\breast_cancer_2\\tutorial\\no line.jpg\",img0)\n",
    "    \n",
    "    \n",
    "plt.imshow(cv2.cvtColor(img0, cv2.COLOR_BGR2RGB))\n",
    "plt.show()"
   ]
  }
 ],
 "metadata": {
  "kernelspec": {
   "display_name": "Python 3",
   "language": "python",
   "name": "python3"
  },
  "language_info": {
   "codemirror_mode": {
    "name": "ipython",
    "version": 3
   },
   "file_extension": ".py",
   "mimetype": "text/x-python",
   "name": "python",
   "nbconvert_exporter": "python",
   "pygments_lexer": "ipython3",
   "version": "3.8.4"
  }
 },
 "nbformat": 4,
 "nbformat_minor": 5
}
