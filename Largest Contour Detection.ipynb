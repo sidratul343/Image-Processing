{
 "cells": [
  {
   "cell_type": "markdown",
   "id": "super-seeker",
   "metadata": {},
   "source": [
    "# Largest Contour Detection & Extract\n",
    "\n",
    "\n",
    "An image might have several objects from which largest object can be detected, drawn and extractet using cv2.findContours, max and cv2.drawContours functions."
   ]
  },
  {
   "cell_type": "code",
   "execution_count": null,
   "id": "compressed-transport",
   "metadata": {},
   "outputs": [],
   "source": [
    "#Largest Contour Detection\n",
    "\n",
    "### Extract Breast portion of image\n",
    "\n",
    "# give directory \n",
    "\n",
    "path = r\"C:\\rafid\\breast_cancer_2\\tutorial\\boarder_open.jpg\"\n",
    "original = cv2.imread(path)\n",
    "boarder_open = Image.open(path) \n",
    "\n",
    "img_brightness_obj=ImageEnhance.Brightness(boarder_open)\n",
    "enhanced_img=img_brightness_obj.enhance(8)\n",
    "\n",
    "img  = cv2.cvtColor(np.array(enhanced_img), cv2.COLOR_BGR2RGB)\n",
    "image_contours = np.zeros((original.shape[1], original.shape[0], 1), np.uint8)\n",
    "image_binary = np.zeros((original.shape[1], original.shape[0], 1), np.uint8)\n",
    "\n",
    "for channel in range(original.shape[2]):\n",
    "        ret, image_thresh = cv2.threshold(img[:, :, channel], 127, 255, cv2.THRESH_BINARY)    \n",
    "        contours = cv2.findContours(image_thresh, 1, 1)[0]   \n",
    "        cv2.drawContours(image_contours, contours, -1, (255,255,255), 3)  \n",
    "        \n",
    "contours = cv2.findContours(image_contours, cv2.RETR_LIST, cv2.CHAIN_APPROX_SIMPLE)[0]\n",
    "cv2.drawContours(image_binary, [max(contours, key = cv2.contourArea)],-1, (255, 255, 255), -1)\n",
    "rgb_img = cv2.cvtColor(image_binary, cv2.COLOR_GRAY2RGB)\n",
    "\n",
    "largest_contour = cv2.bitwise_and(original,rgb_img)\n",
    "\n",
    "# save largest_contour image to directory\n",
    "cv2.imwrite(r\"C:\\rafid\\breast_cancer_2\\tutorial\\largest_contour.jpg\",largest_contour)\n",
    "\n",
    "plt.imshow(cv2.cvtColor(largest_contour, cv2.COLOR_BGR2RGB))\n",
    "plt.show()"
   ]
  }
 ],
 "metadata": {
  "kernelspec": {
   "display_name": "Python 3",
   "language": "python",
   "name": "python3"
  },
  "language_info": {
   "codemirror_mode": {
    "name": "ipython",
    "version": 3
   },
   "file_extension": ".py",
   "mimetype": "text/x-python",
   "name": "python",
   "nbconvert_exporter": "python",
   "pygments_lexer": "ipython3",
   "version": "3.8.4"
  }
 },
 "nbformat": 4,
 "nbformat_minor": 5
}
