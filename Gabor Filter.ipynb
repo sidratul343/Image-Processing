{
 "cells": [
  {
   "cell_type": "markdown",
   "id": "accepted-adrian",
   "metadata": {},
   "source": [
    "# Gabor Filter"
   ]
  },
  {
   "cell_type": "code",
   "execution_count": null,
   "id": "environmental-evolution",
   "metadata": {},
   "outputs": [],
   "source": [
    "ksize = 5\n",
    "sigma = 2\n",
    "theta = 0\n",
    "lambd = 1*np.pi/4\n",
    "gamma = 0.25\n",
    "phi = 6\n",
    "\n",
    "\n",
    "kernel = cv2.getGaborKernel((ksize, ksize), sigma ,theta, lambd, gamma, phi, ktype=cv2.CV_32F)\n",
    "g_img = cv2.filter2D(inRange_mask, cv2.CV_8UC3,kernel)\n",
    "\n",
    "# save g_mask to directory\n",
    "cv2.imwrite(\"mask_gabor.jpg\",g_img)\n",
    "\n",
    "plt.imshow(cv2.cvtColor(g_img, cv2.COLOR_BGR2RGB))\n",
    "plt.show()\n"
   ]
  }
 ],
 "metadata": {
  "kernelspec": {
   "display_name": "Python 3",
   "language": "python",
   "name": "python3"
  },
  "language_info": {
   "codemirror_mode": {
    "name": "ipython",
    "version": 3
   },
   "file_extension": ".py",
   "mimetype": "text/x-python",
   "name": "python",
   "nbconvert_exporter": "python",
   "pygments_lexer": "ipython3",
   "version": "3.8.4"
  }
 },
 "nbformat": 4,
 "nbformat_minor": 5
}
