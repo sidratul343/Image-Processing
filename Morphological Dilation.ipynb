{
 "cells": [
  {
   "cell_type": "markdown",
   "id": "yellow-latitude",
   "metadata": {},
   "source": [
    "# Morphological Dilation"
   ]
  },
  {
   "cell_type": "code",
   "execution_count": null,
   "id": "alpha-generation",
   "metadata": {},
   "outputs": [],
   "source": [
    "kernel2 = np.ones((5,5),np.uint8)\n",
    "gmask_dilate = cv2.dilate(gmask_open,kernel2,iterations = 1)\n",
    "\n",
    "# save mask_dilate to directory\n",
    "cv2.imwrite(\"gmask_dilation.jpg\",gmask_dilate)\n",
    "\n",
    "plt.imshow(cv2.cvtColor(gmask_dilate, cv2.COLOR_BGR2RGB))\n",
    "plt.show()"
   ]
  }
 ],
 "metadata": {
  "kernelspec": {
   "display_name": "Python 3",
   "language": "python",
   "name": "python3"
  },
  "language_info": {
   "codemirror_mode": {
    "name": "ipython",
    "version": 3
   },
   "file_extension": ".py",
   "mimetype": "text/x-python",
   "name": "python",
   "nbconvert_exporter": "python",
   "pygments_lexer": "ipython3",
   "version": "3.8.4"
  }
 },
 "nbformat": 4,
 "nbformat_minor": 5
}
