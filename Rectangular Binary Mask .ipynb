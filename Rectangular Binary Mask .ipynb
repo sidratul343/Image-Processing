{
 "cells": [
  {
   "cell_type": "markdown",
   "id": "unknown-series",
   "metadata": {},
   "source": [
    "# Create a Rectangular Binary Mask and apply on image"
   ]
  },
  {
   "cell_type": "code",
   "execution_count": null,
   "id": "presidential-lewis",
   "metadata": {},
   "outputs": [],
   "source": [
    "### Remove border of raw image to isolate the breast part from image border\n",
    "\n",
    "#give directory of raw image\n",
    "path = r'C:\\rafid\\breast_cancer_2\\aug_example\\tutorial\\BenignCalc\\PNG0164.png'\n",
    "#read image in grayscale\n",
    "raw_img= cv2.imread(path,0)\n",
    "mask = np.zeros(raw_img.shape, np.uint8)  \n",
    "#create mask with desired parameter values\n",
    "mask = cv2.rectangle(mask, (2, 2) , (222, 222), (255,255,255), 5) \n",
    "mask = cv2.flip(mask,1)\n",
    "#apply mask on image\n",
    "mask = cv2.bitwise_not(mask)\n",
    "border_removed = cv2.bitwise_and(raw_img, mask)\n",
    "\n",
    "# save boarder removed image to directory\n",
    "cv2.imwrite(\"boarder_removed.jpg\",border_removed)\n",
    "\n",
    "plt.imshow(cv2.cvtColor(border_removed, cv2.COLOR_BGR2RGB))\n",
    "plt.show()"
   ]
  }
 ],
 "metadata": {
  "kernelspec": {
   "display_name": "Python 3",
   "language": "python",
   "name": "python3"
  },
  "language_info": {
   "codemirror_mode": {
    "name": "ipython",
    "version": 3
   },
   "file_extension": ".py",
   "mimetype": "text/x-python",
   "name": "python",
   "nbconvert_exporter": "python",
   "pygments_lexer": "ipython3",
   "version": "3.8.4"
  }
 },
 "nbformat": 4,
 "nbformat_minor": 5
}
